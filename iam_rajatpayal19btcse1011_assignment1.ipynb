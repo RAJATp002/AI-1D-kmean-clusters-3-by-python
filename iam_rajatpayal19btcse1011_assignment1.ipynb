{
  "nbformat": 4,
  "nbformat_minor": 0,
  "metadata": {
    "colab": {
      "name": "iam-rajatpayal19btcse1011-assignment1.ipynb",
      "provenance": [],
      "include_colab_link": true
    },
    "kernelspec": {
      "display_name": "Python 3",
      "language": "python",
      "name": "python3"
    },
    "language_info": {
      "codemirror_mode": {
        "name": "ipython",
        "version": 3
      },
      "file_extension": ".py",
      "mimetype": "text/x-python",
      "name": "python",
      "nbconvert_exporter": "python",
      "pygments_lexer": "ipython3",
      "version": "3.7.6"
    }
  },
  "cells": [
    {
      "cell_type": "markdown",
      "metadata": {
        "id": "view-in-github",
        "colab_type": "text"
      },
      "source": [
        "<a href=\"https://colab.research.google.com/github/rajatpayaal/AI-1D-kmean-clusters-3-by-python/blob/master/iam_rajatpayal19btcse1011_assignment1.ipynb\" target=\"_parent\"><img src=\"https://colab.research.google.com/assets/colab-badge.svg\" alt=\"Open In Colab\"/></a>"
      ]
    },
    {
      "cell_type": "code",
      "metadata": {
        "id": "vSeE5b7htB8t",
        "colab": {
          "base_uri": "https://localhost:8080/"
        },
        "outputId": "af05dec6-69b3-4c8e-d967-e7a1027f6615"
      },
      "source": [
        "# Jovian Commit Essentials\n",
        "# Please retain and execute this cell without modifying the contents for `jovian.commit` to work\n",
        "!pip install jovian --upgrade -q\n",
        "import jovian\n",
        "jovian.set_project('iam-rajatpayal19btcse1011-assignment1')\n",
        "jovian.set_colab_id('1vtkTR3LIh4bK0PrUnA3BRj1yHrFomVjU')"
      ],
      "execution_count": null,
      "outputs": [
        {
          "output_type": "stream",
          "name": "stdout",
          "text": [
            "\u001b[?25l\r\u001b[K     |████▊                           | 10 kB 20.6 MB/s eta 0:00:01\r\u001b[K     |█████████▌                      | 20 kB 21.5 MB/s eta 0:00:01\r\u001b[K     |██████████████▎                 | 30 kB 13.6 MB/s eta 0:00:01\r\u001b[K     |███████████████████             | 40 kB 9.9 MB/s eta 0:00:01\r\u001b[K     |███████████████████████▉        | 51 kB 5.6 MB/s eta 0:00:01\r\u001b[K     |████████████████████████████▋   | 61 kB 5.9 MB/s eta 0:00:01\r\u001b[K     |████████████████████████████████| 68 kB 3.1 MB/s \n",
            "\u001b[?25h  Building wheel for uuid (setup.py) ... \u001b[?25l\u001b[?25hdone\n"
          ]
        }
      ]
    },
    {
      "cell_type": "markdown",
      "metadata": {
        "id": "FoYzKLo1tB8z"
      },
      "source": [
        "# iam-rajatpayal19btcse1011-assignment1\n",
        "\n",
        "Use the \"Run\" button to execute the code."
      ]
    },
    {
      "cell_type": "code",
      "metadata": {
        "id": "pzMWbDOstB81"
      },
      "source": [
        "!pip install jovian --upgrade --quiet"
      ],
      "execution_count": null,
      "outputs": []
    },
    {
      "cell_type": "code",
      "metadata": {
        "id": "McHx7MB-tB82"
      },
      "source": [
        "import jovian"
      ],
      "execution_count": null,
      "outputs": []
    },
    {
      "cell_type": "code",
      "metadata": {
        "id": "GgzyYqAZtB83"
      },
      "source": [
        "# Execute this to save new versions of the notebook\n",
        "jovian.commit(project=\"iam-rajatpayal19btcse1011-assignment1\")"
      ],
      "execution_count": null,
      "outputs": []
    },
    {
      "cell_type": "code",
      "metadata": {
        "colab": {
          "base_uri": "https://localhost:8080/",
          "height": 523
        },
        "id": "eSMj62sGtB83",
        "outputId": "d616fd8a-9eac-4af3-fa4a-89c0301b1efe"
      },
      "source": [
        "import pandas as pd\n",
        "import numpy as np\n",
        "import matplotlib.pyplot as plt\n",
        "from sklearn import tree\n",
        "from sklearn.feature_extraction.text import CountVectorizer\n",
        "from sklearn.model_selection import train_test_split\n",
        "from sklearn.metrics.pairwise import cosine_similarity\n",
        "from sklearn.tree import DecisionTreeClassifier\n",
        "# from sklearn.linear_model import LogisticRegression\n",
        "#read the data set file \n",
        "df = pd.read_csv(\"iris.csv\")  \n",
        "#describe() method is used for calculating some statistical data like percentile, mean and std of the numerical values of the Series or DataFrame\n",
        "df.describe()\n",
        "# Splitting the dataset into the Training set and Test set\n",
        "X = df.iloc[:, [0,1,2, 3]].values\n",
        "y = df.iloc[:, 4].values\n",
        "X_train, X_test, y_train, y_test = train_test_split(X, y, test_size = 0.25, random_state = 0)\n",
        "# sc = StandardScaler()\n",
        "# X_train = sc.fit_transform(X_train)\n",
        "# X_test = sc.transform(X_test)\n",
        "# classifier = LogisticRegression(random_state = 0, solver='lbfgs', multi_class='auto')\n",
        "# classifier.fit(X_train, y_train)\n",
        "classifier = DecisionTreeClassifier(class_weight=None, \n",
        "criterion='entropy', max_depth=None, \n",
        "max_features=None, \n",
        "max_leaf_nodes=None,min_impurity_decrease=0.0, \n",
        "min_impurity_split=None, \n",
        "min_samples_leaf=1, min_samples_split=2, \n",
        "min_weight_fraction_leaf=0.0, presort=False, \n",
        "random_state=0, splitter='best')\n",
        "classifier.fit(X_train, y_train)\n",
        "\n",
        "# sklearn.tree.plot_tree(decision_tree, *, max_depth=None, feature_names=None, class_names=None, label='all',\n",
        "# filled=False, impurity=True, node_ids=False, proportion=False, rounded=False, precision=3, ax=None, fontsize=None)\n",
        "\n",
        "tree.plot_tree(classifier)\n"
      ],
      "execution_count": null,
      "outputs": [
        {
          "output_type": "stream",
          "name": "stderr",
          "text": [
            "/usr/local/lib/python3.7/dist-packages/sklearn/tree/_classes.py:319: FutureWarning: The parameter 'presort' is deprecated and has no effect. It will be removed in v0.24. You can suppress this warning by not passing any value to the 'presort' parameter.\n",
            "  FutureWarning)\n"
          ]
        },
        {
          "output_type": "execute_result",
          "data": {
            "text/plain": [
              "[Text(133.92000000000002, 195.696, 'X[3] <= 0.8\\nentropy = 1.581\\nsamples = 112\\nvalue = [37, 34, 41]'),\n",
              " Text(100.44000000000001, 152.208, 'entropy = 0.0\\nsamples = 37\\nvalue = [37, 0, 0]'),\n",
              " Text(167.40000000000003, 152.208, 'X[2] <= 4.95\\nentropy = 0.994\\nsamples = 75\\nvalue = [0, 34, 41]'),\n",
              " Text(66.96000000000001, 108.72, 'X[3] <= 1.65\\nentropy = 0.414\\nsamples = 36\\nvalue = [0, 33, 3]'),\n",
              " Text(33.480000000000004, 65.232, 'entropy = 0.0\\nsamples = 32\\nvalue = [0, 32, 0]'),\n",
              " Text(100.44000000000001, 65.232, 'X[1] <= 3.1\\nentropy = 0.811\\nsamples = 4\\nvalue = [0, 1, 3]'),\n",
              " Text(66.96000000000001, 21.744, 'entropy = 0.0\\nsamples = 3\\nvalue = [0, 0, 3]'),\n",
              " Text(133.92000000000002, 21.744, 'entropy = 0.0\\nsamples = 1\\nvalue = [0, 1, 0]'),\n",
              " Text(267.84000000000003, 108.72, 'X[3] <= 1.75\\nentropy = 0.172\\nsamples = 39\\nvalue = [0, 1, 38]'),\n",
              " Text(234.36, 65.232, 'X[3] <= 1.65\\nentropy = 0.811\\nsamples = 4\\nvalue = [0, 1, 3]'),\n",
              " Text(200.88000000000002, 21.744, 'entropy = 0.0\\nsamples = 3\\nvalue = [0, 0, 3]'),\n",
              " Text(267.84000000000003, 21.744, 'entropy = 0.0\\nsamples = 1\\nvalue = [0, 1, 0]'),\n",
              " Text(301.32000000000005, 65.232, 'entropy = 0.0\\nsamples = 35\\nvalue = [0, 0, 35]')]"
            ]
          },
          "metadata": {},
          "execution_count": 69
        },
        {
          "output_type": "display_data",
          "data": {
            "image/png": "[encoded data removed]",
            "text/plain": [
              "<Figure size 432x288 with 1 Axes>"
            ]
          },
          "metadata": {
            "needs_background": "light"
          }
        }
      ]
    }
  ]
}